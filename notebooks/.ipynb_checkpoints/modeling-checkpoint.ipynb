{
 "cells": [
  {
   "cell_type": "markdown",
   "id": "2ac40eb5-52d6-4003-a850-1afa111eeda7",
   "metadata": {},
   "source": [
    "# Análise de Crédito - Model"
   ]
  },
  {
   "cell_type": "code",
   "execution_count": null,
   "id": "ed582f0f-12dc-4095-bef1-7fe4ec234a8c",
   "metadata": {},
   "outputs": [],
   "source": []
  },
  {
   "cell_type": "markdown",
   "id": "4d1dcc1f-088c-47a0-999e-6cec5a92dc76",
   "metadata": {},
   "source": [
    "# Imports"
   ]
  },
  {
   "cell_type": "code",
   "execution_count": 11,
   "id": "4fef5841-15df-4e9c-b415-ea461dca5dff",
   "metadata": {},
   "outputs": [],
   "source": [
    "import numpy as np\n",
    "from utils import *"
   ]
  },
  {
   "cell_type": "markdown",
   "id": "78a02444-748c-4766-b5a7-5a5d1e315944",
   "metadata": {},
   "source": [
    "# Parameters"
   ]
  },
  {
   "cell_type": "code",
   "execution_count": 9,
   "id": "7b2e7f97-2350-44f8-b97f-3e1e8ec75740",
   "metadata": {},
   "outputs": [],
   "source": [
    "REMOVE_MISSING  = [\"loan_term\"]\n",
    "REMOVE_BIAS = [\"age\", \"city\", \"state\", \"gender\", \"education_level\"]\n",
    "REMOVE_ID_COLUMN = [\"id\"]\n",
    "REMOVE_UNUSED_COLUMNS = [\"informed_purpose\", \"pre_approved\"]"
   ]
  },
  {
   "cell_type": "markdown",
   "id": "a8cd72c0-ac25-4fed-aa0c-aa464ff43785",
   "metadata": {},
   "source": [
    "# Definitions"
   ]
  },
  {
   "cell_type": "code",
   "execution_count": 8,
   "id": "a6aefedf-b266-42c8-a995-86ae8cb19034",
   "metadata": {},
   "outputs": [],
   "source": [
    "np.seed = SEED"
   ]
  },
  {
   "cell_type": "markdown",
   "id": "eba0ca9d-4ee2-42a9-ae83-4fbf39754ae4",
   "metadata": {},
   "source": [
    "# Pre-Processing"
   ]
  },
  {
   "cell_type": "code",
   "execution_count": null,
   "id": "7859cab8-6641-438c-8899-4422218cd35c",
   "metadata": {},
   "outputs": [],
   "source": [
    "df = "
   ]
  },
  {
   "cell_type": "code",
   "execution_count": 6,
   "id": "903e3958-c1cd-4a2c-9a31-3df353abb96e",
   "metadata": {},
   "outputs": [
    {
     "ename": "NameError",
     "evalue": "name 'df' is not defined",
     "output_type": "error",
     "traceback": [
      "\u001b[0;31m---------------------------------------------------------------------------\u001b[0m",
      "\u001b[0;31mNameError\u001b[0m                                 Traceback (most recent call last)",
      "Cell \u001b[0;32mIn[6], line 1\u001b[0m\n\u001b[0;32m----> 1\u001b[0m df \u001b[38;5;241m=\u001b[39m \u001b[43mdf\u001b[49m[df[\u001b[38;5;124m\"\u001b[39m\u001b[38;5;124mpre_approved\u001b[39m\u001b[38;5;124m\"\u001b[39m] \u001b[38;5;241m==\u001b[39m \u001b[38;5;241m1\u001b[39m]\n",
      "\u001b[0;31mNameError\u001b[0m: name 'df' is not defined"
     ]
    }
   ],
   "source": [
    "df = df[df[\"pre_approved\"] == 1]"
   ]
  },
  {
   "cell_type": "code",
   "execution_count": null,
   "id": "103f386e-6f83-4d07-bbfb-a14eccebe291",
   "metadata": {},
   "outputs": [],
   "source": []
  }
 ],
 "metadata": {
  "kernelspec": {
   "display_name": "Python 3 (ipykernel)",
   "language": "python",
   "name": "python3"
  },
  "language_info": {
   "codemirror_mode": {
    "name": "ipython",
    "version": 3
   },
   "file_extension": ".py",
   "mimetype": "text/x-python",
   "name": "python",
   "nbconvert_exporter": "python",
   "pygments_lexer": "ipython3",
   "version": "3.11.9"
  }
 },
 "nbformat": 4,
 "nbformat_minor": 5
}
